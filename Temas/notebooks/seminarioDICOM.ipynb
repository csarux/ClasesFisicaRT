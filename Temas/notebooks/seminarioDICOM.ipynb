{
 "cells": [
  {
   "cell_type": "markdown",
   "metadata": {},
   "source": [
    "# Seminario DICOM RT\n",
    "-----------\n",
    "Utilizamos los datos sintéticos recién creados para explorar las características de diferentes tipos de archivos.\n",
    "\n",
    "Instalamos y cargamos el módulo `pydicom`."
   ]
  },
  {
   "cell_type": "code",
   "execution_count": null,
   "metadata": {
    "label": "installpydicom"
   },
   "outputs": [],
   "source": [
    "!pip install pydicom"
   ]
  },
  {
   "cell_type": "code",
   "execution_count": 1,
   "metadata": {
    "label": "importpydicom"
   },
   "outputs": [],
   "source": [
    "import pydicom as dcm"
   ]
  },
  {
   "cell_type": "markdown",
   "metadata": {},
   "source": [
    "Cambiamos al directorio donde hayamos subido los datos sintéticos"
   ]
  },
  {
   "cell_type": "code",
   "execution_count": 2,
   "metadata": {},
   "outputs": [
    {
     "name": "stdout",
     "output_type": "stream",
     "text": [
      "/Users/cesar/Documents/Development/opentps/testData/cuba\n"
     ]
    }
   ],
   "source": [
    "%cd 'Ruta al directorio de Drive donde hayamos subido los datos sintéticos'"
   ]
  },
  {
   "cell_type": "markdown",
   "metadata": {},
   "source": [
    "## Archivos de imagen\n",
    "- Para explorar el contenido de los archivos de imagen cargamos cualquiera de los archivos cuyo nombre comiemza por `image`.\n",
    "    - Listamos el contenido del directorio mediante `%ls`\n",
    "    - Copiamos el nombre de uno de los archivos\n",
    "    - Leemmos el contenido medinte `dcm.dcmread('nombreArchivo')` directamente o recogiendo el resultado sobre una variable `imgds`"
   ]
  },
  {
   "cell_type": "code",
   "execution_count": 8,
   "metadata": {
    "label": "readimg"
   },
   "outputs": [],
   "source": [
    "imgds = dcm.dcmread('image0041_1.2.826.0.1.3680043.8.274.1.1.481037312.1974.1734464449.301060.dcm')"
   ]
  },
  {
   "cell_type": "markdown",
   "metadata": {},
   "source": [
    "Los objetos creados por el módulo `pydicom` contienen propiedades y métodos propias de las funcionalidades del protocolo DICOM.\n",
    "\n",
    "Para explorarlas en detalle consultar la documentación del módulo.\n",
    "\n",
    "Algunas propiedades son propias del estudio y de la serie DICOM:\n",
    "- Study y Series Instance UID\n",
    "- Study ID\n",
    "- Series Number\n",
    "- Instance Number\n",
    "- Fecha hora del estudio\n",
    "\n",
    "Otras propiedades son propias del paciente\n",
    "- Datos demográficos del paciente\n",
    "- Posición del paciente\n",
    "\n",
    "Otras son propias de los datos de la imagen\n",
    "- Filas, columnas\n",
    "- Frecuencia espacial\n",
    "- Orientación de las imágenes respecto al paciente\n",
    "- Localización espacial de las imágemes\n",
    "- Datos de imagen\n",
    "\n",
    "Si escribimos la variable y un punto los editores nos ofrecen una lista de todas las propiedades y métodos.\n",
    "\n",
    "Por ejemplo modificar el siguiente código para explorar los valores de las propiedades relacionadas con el estudio y la serie a la que pertenece la imagen DICOM que hemos leído."
   ]
  },
  {
   "cell_type": "code",
   "execution_count": 9,
   "metadata": {
    "label": "DICOMattribute"
   },
   "outputs": [
    {
     "data": {
      "text/plain": [
       "'1.2.826.0.1.3680043.8.274.1.1.481037312.1974.1734464449.300955'"
      ]
     },
     "execution_count": 9,
     "metadata": {},
     "output_type": "execute_result"
    }
   ],
   "source": [
    "imgds.StudyInstanceUID"
   ]
  },
  {
   "cell_type": "markdown",
   "metadata": {},
   "source": [
    "Exploración de demográficos"
   ]
  },
  {
   "cell_type": "code",
   "execution_count": 43,
   "metadata": {"label":"demographics"},
   "outputs": [
    {
     "name": "stdout",
     "output_type": "stream",
     "text": [
      "ID: TestDICOM01, Apellido^Nombre: CUBA^MANIQUI\n"
     ]
    }
   ],
   "source": [
    "print(f'ID: {imgds.PatientID}, Apellido^Nombre: {imgds.PatientName}')"
   ]
  },
  {
   "cell_type": "markdown",
   "metadata": {},
   "source": [
    "En el archivo DICOM Los datos de la imagen están almacenados en la propiedad `PixelData` pero están códificados en binario. Decodificarlos no es trivial, para hacerlo es necesario de forma *cuidadosa* combinar varias propiedades especificadas en el propio archivo. `pydicom` permite el acceso a los datos sin codificar mediante la propiedad `pixel_array`, que es un array de `numpy`, con todos sus métodos. "
   ]
  },
  {
   "cell_type": "code",
   "execution_count": 10,
   "metadata": {},
   "outputs": [
    {
     "name": "stdout",
     "output_type": "stream",
     "text": [
      "Rango de los datos: (110, 110), filas: 110, columnas: 110\n"
     ]
    }
   ],
   "source": [
    "print(f'Rango de los datos: {imgds.pixel_array.shape}, filas: {imgds.Rows}, columnas: {imgds.Columns}')"
   ]
  },
  {
   "cell_type": "code",
   "execution_count": 11,
   "metadata": {},
   "outputs": [
    {
     "data": {
      "text/plain": [
       "(24200, bytes)"
      ]
     },
     "execution_count": 11,
     "metadata": {},
     "output_type": "execute_result"
    }
   ],
   "source": [
    "len(imgds.PixelData), type(imgds.PixelData)"
   ]
  },
  {
   "cell_type": "code",
   "execution_count": 14,
   "metadata": {},
   "outputs": [
    {
     "data": {
      "text/plain": [
       "16"
      ]
     },
     "execution_count": 14,
     "metadata": {},
     "output_type": "execute_result"
    }
   ],
   "source": [
    "imgds.BitsStored"
   ]
  },
  {
   "cell_type": "markdown",
   "metadata": {},
   "source": [
    "Se utilizan dos bytes para reperesentar cada pixel."
   ]
  },
  {
   "cell_type": "code",
   "execution_count": 12,
   "metadata": {},
   "outputs": [
    {
     "data": {
      "text/plain": [
       "24200"
      ]
     },
     "execution_count": 12,
     "metadata": {},
     "output_type": "execute_result"
    }
   ],
   "source": [
    "2*imgds.Rows*imgds.Columns"
   ]
  },
  {
   "cell_type": "markdown",
   "metadata": {},
   "source": [
    "Podemos visualizar la imagen mediaante `matplotlib`"
   ]
  },
  {
   "cell_type": "code",
   "execution_count": 15,
   "metadata": {},
   "outputs": [],
   "source": [
    "import matplotlib.pyplot as plt"
   ]
  },
  {
   "cell_type": "code",
   "execution_count": 16,
   "metadata": {},
   "outputs": [
    {
     "data": {
      "text/plain": [
       "<matplotlib.image.AxesImage at 0x116c51150>"
      ]
     },
     "execution_count": 16,
     "metadata": {},
     "output_type": "execute_result"
    },
    {
     "data": {
      "image/png": "[encoded data removed]",
      "text/plain": [
       "<Figure size 640x480 with 1 Axes>"
      ]
     },
     "metadata": {},
     "output_type": "display_data"
    }
   ],
   "source": [
    "plt.imshow(imgds.pixel_array, cmap=plt.cm.gray_r)"
   ]
  },
  {
   "cell_type": "markdown",
   "metadata": {},
   "source": [
    "Y también cuantificar los datos de imagen mediante un perfil"
   ]
  },
  {
   "cell_type": "code",
   "execution_count": 17,
   "metadata": {},
   "outputs": [
    {
     "data": {
      "text/plain": [
       "[<matplotlib.lines.Line2D at 0x1177eced0>]"
      ]
     },
     "execution_count": 17,
     "metadata": {},
     "output_type": "execute_result"
    },
    {
     "data": {
      "image/png": "[encoded data removed]",
      "text/plain": [
       "<Figure size 640x480 with 1 Axes>"
      ]
     },
     "metadata": {},
     "output_type": "display_data"
    }
   ],
   "source": [
    "plt.plot(imgds.pixel_array[55,:])"
   ]
  },
  {
   "cell_type": "markdown",
   "metadata": {},
   "source": [
    "Si nos fijamos en este perfil y en la instrucción `plastimatch` que utilizamos para crear la imagen, observamos que los datos no coinciden. Los datos se almacenan con una transformación lineal. Para recuperar los datos reales tenemos que hacer "
   ]
  },
  {
   "cell_type": "code",
   "execution_count": 18,
   "metadata": {},
   "outputs": [
    {
     "data": {
      "text/plain": [
       "[<matplotlib.lines.Line2D at 0x1268b7890>]"
      ]
     },
     "execution_count": 18,
     "metadata": {},
     "output_type": "execute_result"
    },
    {
     "data": {
      "image/png": "[encoded data removed]",
      "text/plain": [
       "<Figure size 640x480 with 1 Axes>"
      ]
     },
     "metadata": {},
     "output_type": "display_data"
    }
   ],
   "source": [
    "plt.plot(imgds.RescaleSlope * imgds.pixel_array[55,:] + imgds.RescaleIntercept)"
   ]
  },
  {
   "cell_type": "markdown",
   "metadata": {},
   "source": [
    "Ahora sí hemos obtenido un perfil de agua, numero Hounsfield HU = 0, en el seno de aire (HU=-1000).\n",
    "\n",
    "Por la manera en la que hemos construido la figura, en el eje x tenemos píxeles. Para tener distancia tenemos que multiplicar el eje por el tamaño de pixel según el eje en el que estemos."
   ]
  },
  {
   "cell_type": "code",
   "execution_count": 19,
   "metadata": {},
   "outputs": [
    {
     "data": {
      "text/plain": [
       "[1.000000, 1.000000]"
      ]
     },
     "execution_count": 19,
     "metadata": {},
     "output_type": "execute_result"
    }
   ],
   "source": [
    "imgds.PixelSpacing"
   ]
  },
  {
   "cell_type": "markdown",
   "metadata": {},
   "source": [
    "En este caso la representación coincide. De acuerdo a la especificación DICOM `PixelSpacing` se da en milímetros.\n",
    "\n",
    "Comprobamos ahora la extensión de la cuba en el eje z. Rastreamos todos los cortes y extraemos la posición de aquellos corte que tiene contenido distinto a aire en el centro"
   ]
  },
  {
   "cell_type": "code",
   "execution_count": 20,
   "metadata": {},
   "outputs": [],
   "source": [
    "from glob import glob\n",
    "import numpy as np"
   ]
  },
  {
   "cell_type": "code",
   "execution_count": 21,
   "metadata": {},
   "outputs": [
    {
     "name": "stdout",
     "output_type": "stream",
     "text": [
      "Largo de la cuba: 100.0 mm\n"
     ]
    }
   ],
   "source": [
    "img_files = glob('image*')\n",
    "posiciones_cortes = []\n",
    "for img_file in img_files:\n",
    "    img_ds = dcm.dcmread(img_file)\n",
    "    if img_ds.pixel_array[55, 55] == 1000:\n",
    "        posiciones_cortes.append(img_ds.SliceLocation)\n",
    "posiciones_cortes=np.array(posiciones_cortes, np.float32)\n",
    "posiciones_cortes.sort()\n",
    "largo_cuba = posiciones_cortes.max() - posiciones_cortes.min()\n",
    "print(f'Largo de la cuba: {largo_cuba} mm')"
   ]
  },
  {
   "cell_type": "markdown",
   "metadata": {},
   "source": [
    "## Estructuras RT\n",
    "\n",
    "Para definir y evaluar los tratamientos de radioterapia sobre los archivos de imagen se definen los contornos de las estructuras relevantes, sean volúmenes objetivo, órganos de riesgo o volúmenes de interés.\n",
    "\n",
    "### Consistencia de las estructuras con el estudio de imagen\n",
    "Las estructuras se asocian al estudio de imagen mediante una serie de campos.\n",
    "\n",
    "Leemos el archivo de estructuras"
   ]
  },
  {
   "cell_type": "code",
   "execution_count": 22,
   "metadata": {},
   "outputs": [],
   "source": [
    "ssds = dcm.dcmread('rtss_1.2.826.0.1.3680043.8.274.1.1.481037312.2245.1734464459.621950.dcm')"
   ]
  },
  {
   "cell_type": "markdown",
   "metadata": {},
   "source": [
    "Los datos se almacenan en una serie de secuencias anidadas. Identificamenos algunas de ellas"
   ]
  },
  {
   "cell_type": "code",
   "execution_count": 23,
   "metadata": {},
   "outputs": [],
   "source": [
    "ss_seq = ssds.ReferencedFrameOfReferenceSequence[0]\n",
    "ref_study_seq = ss_seq.RTReferencedStudySequence[0]\n",
    "ref_series_seq = ref_study_seq.RTReferencedSeriesSequence[0]\n",
    "contour_image_seq = ref_series_seq.ContourImageSequence\n"
   ]
  },
  {
   "cell_type": "markdown",
   "metadata": {},
   "source": [
    "Comprobamos que los identificadores coinciden en los archivos de imagen y en el archivo de estructuras"
   ]
  },
  {
   "cell_type": "code",
   "execution_count": 24,
   "metadata": {},
   "outputs": [],
   "source": [
    "import json"
   ]
  },
  {
   "cell_type": "code",
   "execution_count": 30,
   "metadata": {},
   "outputs": [
    {
     "name": "stdout",
     "output_type": "stream",
     "text": [
      "{\n",
      "  \"StudyInstanceUID\": [\n",
      "    \"1.2.826.0.1.3680043.8.274.1.1.481037312.1974.1734464449.300955\",\n",
      "    \"1.2.826.0.1.3680043.8.274.1.1.481037312.1974.1734464449.300955\"\n",
      "  ],\n",
      "  \"SeriesInstanceUID\": [\n",
      "    \"1.2.826.0.1.3680043.8.274.1.1.481037312.1974.1734464449.300975\",\n",
      "    \"1.2.826.0.1.3680043.8.274.1.1.481037312.1974.1734464449.300975\"\n",
      "  ],\n",
      "  \"FrameOfReferenceUID\": [\n",
      "    \"1.2.826.0.1.3680043.8.274.1.1.481037312.1974.1734464449.300956\",\n",
      "    \"1.2.826.0.1.3680043.8.274.1.1.481037312.1974.1734464449.300956\"\n",
      "  ],\n",
      "  \"ReferencedSOPInstanceUID\": [\n",
      "    \"1.2.826.0.1.3680043.8.274.1.1.481037312.1974.1734464449.301060\",\n",
      "    \"1.2.826.0.1.3680043.8.274.1.1.481037312.1974.1734464449.301060\"\n",
      "  ]\n",
      "}\n"
     ]
    }
   ],
   "source": [
    "ss_ids = {\n",
    "    'StudyInstanceUID':\n",
    "        [imgds.StudyInstanceUID, ssds.StudyInstanceUID],\n",
    "    'SeriesInstanceUID':\n",
    "        [imgds.SeriesInstanceUID, ref_series_seq.SeriesInstanceUID],\n",
    "    'FrameOfReferenceUID':\n",
    "        [imgds.FrameOfReferenceUID, ss_seq.FrameOfReferenceUID],\n",
    "    'ReferencedSOPInstanceUID':\n",
    "        [imgds.SOPInstanceUID, contour_image_seq[41].ReferencedSOPInstanceUID]\n",
    "}\n",
    "\n",
    "json_ss_ids = json.dumps(ss_ids, indent=2)\n",
    "print(json_ss_ids)"
   ]
  },
  {
   "cell_type": "markdown",
   "metadata": {},
   "source": [
    "El último identificador lo dejamos con el *número mágico* en el índice porque para que coincida el identificador, el índice tiene que ser el de la imagen a la que pertecen los contornos.\n",
    "\n",
    "Este número depende del archivo de imagen seleccionado al leer `imgds`\n",
    "\n",
    "### Descripción de los contornos\n",
    "\n",
    "Cada `ContourImageSequence` contiene una secuencia de coordenadas $(x, y, z)$. Las coordenadas $x$ e $y$ describen el contorno correspondiente a la imagen asociada y la $z$ coincide con la posición del corte de esa imagen. \n",
    "\n",
    "Las siguientes dos figuras nos muestran el contenido de los dos contornos definidos\n"
   ]
  },
  {
   "cell_type": "code",
   "execution_count": 31,
   "metadata": {},
   "outputs": [
    {
     "data": {
      "image/png": "[encoded data removed]",
      "text/plain": [
       "<Figure size 400x400 with 1 Axes>"
      ]
     },
     "metadata": {},
     "output_type": "display_data"
    }
   ],
   "source": [
    "contour0 = np.array(ssds.ROIContourSequence[0].ContourSequence[4].ContourData) # PTV\n",
    "fig, ax = plt.subplots(figsize=(4,4))\n",
    "ax.set_xlabel('x [mm]')\n",
    "ax.set_ylabel('y [mm]')\n",
    "ax.set_xlim([-10,10])\n",
    "ax.set_ylim([-10,10])\n",
    "ax.set_yticks(np.arange(-10, 11, 5))\n",
    "ax.plot(contour0[::3], contour0[1::3], '.')\n",
    "plt.show()"
   ]
  },
  {
   "cell_type": "code",
   "execution_count": 32,
   "metadata": {},
   "outputs": [
    {
     "data": {
      "image/png": "[encoded data removed]",
      "text/plain": [
       "<Figure size 400x400 with 1 Axes>"
      ]
     },
     "metadata": {},
     "output_type": "display_data"
    }
   ],
   "source": [
    "contour1 = np.array(ssds.ROIContourSequence[1].ContourSequence[4].ContourData) # BODY\n",
    "fig, ax = plt.subplots(figsize=(4,4))\n",
    "ax.set_xlabel('x [mm]')\n",
    "ax.set_ylabel('y [mm]')\n",
    "ax.set_xlim([-60,60])\n",
    "ax.set_ylim([-60,60])\n",
    "ax.set_yticks(np.arange(-60, 61, 20))\n",
    "ax.plot(contour1[::3], contour1[1::3], '.')\n",
    "plt.show()"
   ]
  },
  {
   "cell_type": "markdown",
   "metadata": {},
   "source": [
    "Mediante este código podemos inspeccionar el contenido numéricos de la secuencia de coordenadas"
   ]
  },
  {
   "cell_type": "code",
   "execution_count": 33,
   "metadata": {},
   "outputs": [
    {
     "data": {
      "text/plain": [
       "array([ 0. ,  8.5, -6. , -0.5,  8. , -6. , -1. ,  7.5, -6. , -2. ,  7.5,\n",
       "       -6. , -3. ,  7.5, -6. , -3.5,  7. , -6. , -4. ,  6.5, -6. , -5. ,\n",
       "        6.5, -6. , -5.5,  6. , -6. , -6. ,  5.5, -6. , -6.5,  5. , -6. ,\n",
       "       -6.5,  4. , -6. , -7. ,  3.5, -6. , -7.5,  3. , -6. , -7.5,  2. ,\n",
       "       -6. , -7.5,  1. , -6. , -8. ,  0.5, -6. , -8.5,  0. , -6. , -8. ,\n",
       "       -0.5, -6. , -7.5, -1. , -6. , -7.5, -2. , -6. , -7.5, -3. , -6. ,\n",
       "       -7. , -3.5, -6. , -6.5, -4. , -6. , -6.5, -5. , -6. , -6. , -5.5,\n",
       "       -6. , -5.5, -6. , -6. , -5. , -6.5, -6. , -4. , -6.5, -6. , -3.5,\n",
       "       -7. , -6. , -3. , -7.5, -6. , -2. , -7.5, -6. , -1. , -7.5, -6. ])"
      ]
     },
     "execution_count": 33,
     "metadata": {},
     "output_type": "execute_result"
    }
   ],
   "source": [
    "contour0[:99]"
   ]
  },
  {
   "cell_type": "markdown",
   "metadata": {},
   "source": [
    "Comprobamos que la posición espacial es coherente con el corte de image asociado mediante el `SOPInstanceUID`"
   ]
  },
  {
   "cell_type": "code",
   "execution_count": 34,
   "metadata": {},
   "outputs": [
    {
     "data": {
      "text/plain": [
       "'1.2.826.0.1.3680043.8.274.1.1.481037312.1974.1734464449.301076'"
      ]
     },
     "execution_count": 34,
     "metadata": {},
     "output_type": "execute_result"
    }
   ],
   "source": [
    "mySOPInstanceUID = ssds.ROIContourSequence[0].ContourSequence[4].ContourImageSequence[0].ReferencedSOPInstanceUID\n",
    "mySOPInstanceUID"
   ]
  },
  {
   "cell_type": "code",
   "execution_count": 35,
   "metadata": {},
   "outputs": [
    {
     "name": "stdout",
     "output_type": "stream",
     "text": [
      "-6.000000\n"
     ]
    }
   ],
   "source": [
    "img_files = glob('image*.dcm')\n",
    "for img_file in img_files:\n",
    "    img_ds = dcm.dcmread(img_file)\n",
    "    if img_ds.SOPInstanceUID == mySOPInstanceUID:\n",
    "        print(img_ds.SliceLocation)"
   ]
  },
  {
   "cell_type": "markdown",
   "metadata": {},
   "source": [
    "Valor que como esperábamos coincide con las coordendas $z$ en la secuencia del contorno.\n",
    "\n",
    "## Dosis\n",
    "\n",
    "La dosis en DICOM RT se puede considerar como una imagen tridimensional.\n",
    "\n",
    "Leemos el archivo de dosis"
   ]
  },
  {
   "cell_type": "code",
   "execution_count": 36,
   "metadata": {},
   "outputs": [],
   "source": [
    "doseds = dcm.dcmread('dose0.dcm')"
   ]
  },
  {
   "cell_type": "markdown",
   "metadata": {},
   "source": [
    "La dosis se asocia al estudio de imagen mediante una serie de identificadores"
   ]
  },
  {
   "cell_type": "code",
   "execution_count": 37,
   "metadata": {},
   "outputs": [
    {
     "name": "stdout",
     "output_type": "stream",
     "text": [
      "{\n",
      "  \"StudyInstanceUID\": [\n",
      "    \"1.2.826.0.1.3680043.8.274.1.1.481037312.1974.1734464449.300955\",\n",
      "    \"1.2.826.0.1.3680043.8.274.1.1.481037312.1974.1734464449.300955\"\n",
      "  ],\n",
      "  \"SeriesInstanceUID\": [\n",
      "    \"1.2.826.0.1.3680043.8.274.1.1.481037312.1974.1734464449.300975\",\n",
      "    \"1.2.826.0.1.3680043.8.274.1.1.481037312.1974.1734464449.300975\"\n",
      "  ],\n",
      "  \"ReferencedSOPInstanceUID\": [\n",
      "    \"1.2.826.0.1.3680043.8.274.1.1.481037312.1974.1734464449.301060\",\n",
      "    \"1.2.826.0.1.3680043.8.274.1.1.8323329.17895.1724170248.176796\"\n",
      "  ]\n",
      "}\n"
     ]
    }
   ],
   "source": [
    "dose_ids = {\n",
    "    'StudyInstanceUID':\n",
    "        [imgds.StudyInstanceUID, doseds.StudyInstanceUID],\n",
    "    'SeriesInstanceUID':\n",
    "        [imgds.SeriesInstanceUID, doseds.SeriesInstanceUID],\n",
    "    'ReferencedSOPInstanceUID':\n",
    "        [imgds.SOPInstanceUID, doseds.ReferencedImageSequence[0].ReferencedSOPInstanceUID]\n",
    "}\n",
    "\n",
    "json_dose_ids = json.dumps(dose_ids, indent=2)\n",
    "print(json_dose_ids)"
   ]
  },
  {
   "cell_type": "markdown",
   "metadata": {},
   "source": [
    "En este caso los identificadores no coinciden porque el cálculo se ha realizado sobre un CT con unos iddentificadores distintos a los del CT sintético creado en este seminario.\n",
    "\n",
    "Como la geometría es consistente esto no nos impide cargar la distribución de dosis en el software de visualización.\n",
    "\n",
    "Esto no sería posible sobre un software clínico. En este caso la distribución de dosis va asociado al estudio de imagen, o si se quiere, al paciente.\n",
    "\n",
    "Podemos visualizar la distribución de dosis como una imagen, con diferentes cortes"
   ]
  },
  {
   "cell_type": "code",
   "execution_count": 38,
   "metadata": {},
   "outputs": [
    {
     "data": {
      "text/plain": [
       "<matplotlib.image.AxesImage at 0x12687dad0>"
      ]
     },
     "execution_count": 38,
     "metadata": {},
     "output_type": "execute_result"
    },
    {
     "data": {
      "image/png": "[encoded data removed]",
      "text/plain": [
       "<Figure size 640x480 with 1 Axes>"
      ]
     },
     "metadata": {},
     "output_type": "display_data"
    }
   ],
   "source": [
    "plt.imshow(doseds.pixel_array[..., 50])"
   ]
  },
  {
   "cell_type": "code",
   "execution_count": 39,
   "metadata": {},
   "outputs": [
    {
     "data": {
      "text/plain": [
       "<matplotlib.image.AxesImage at 0x126c534d0>"
      ]
     },
     "execution_count": 39,
     "metadata": {},
     "output_type": "execute_result"
    },
    {
     "data": {
      "image/png": "[encoded data removed]",
      "text/plain": [
       "<Figure size 640x480 with 1 Axes>"
      ]
     },
     "metadata": {},
     "output_type": "display_data"
    }
   ],
   "source": [
    "plt.imshow(doseds.pixel_array[:,50,:])"
   ]
  },
  {
   "cell_type": "markdown",
   "metadata": {},
   "source": [
    "Podemos obtener un perfil y visualizar el pico extendido de Bragg"
   ]
  },
  {
   "cell_type": "code",
   "execution_count": 40,
   "metadata": {},
   "outputs": [
    {
     "data": {
      "text/plain": [
       "[<matplotlib.lines.Line2D at 0x126cef350>]"
      ]
     },
     "execution_count": 40,
     "metadata": {},
     "output_type": "execute_result"
    },
    {
     "data": {
      "image/png": "[encoded data removed]",
      "text/plain": [
       "<Figure size 640x480 with 1 Axes>"
      ]
     },
     "metadata": {},
     "output_type": "display_data"
    }
   ],
   "source": [
    "plt.plot(doseds.pixel_array[50,:,50])"
   ]
  },
  {
   "cell_type": "markdown",
   "metadata": {},
   "source": [
    "Y también obtener detalles geométricos de la distribución como el tamaño de pixel"
   ]
  },
  {
   "cell_type": "code",
   "execution_count": 41,
   "metadata": {},
   "outputs": [
    {
     "data": {
      "text/plain": [
       "[1.000000, 1.000000]"
      ]
     },
     "execution_count": 41,
     "metadata": {},
     "output_type": "execute_result"
    }
   ],
   "source": [
    "doseds.PixelSpacing"
   ]
  },
  {
   "cell_type": "code",
   "execution_count": null,
   "metadata": {},
   "outputs": [],
   "source": []
  }
 ],
 "metadata": {
  "kernelspec": {
   "display_name": "base",
   "language": "python",
   "name": "python3"
  },
  "language_info": {
   "codemirror_mode": {
    "name": "ipython",
    "version": 3
   },
   "file_extension": ".py",
   "mimetype": "text/x-python",
   "name": "python",
   "nbconvert_exporter": "python",
   "pygments_lexer": "ipython3",
   "version": "3.11.8"
  }
 },
 "nbformat": 4,
 "nbformat_minor": 2
}
