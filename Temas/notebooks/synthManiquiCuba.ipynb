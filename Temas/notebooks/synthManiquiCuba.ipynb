{
 "cells": [
  {
   "cell_type": "markdown",
   "metadata": {
    "id": "NopKmiaUGWOE",
    "label": "intro"
   },
   "source": [
    "## Instalación de plastimatch en Colab\n",
    "\n",
    "Google Colab utiliza una distribución Ubuntu sin paquete `plastimatch`. Si intentamos `apt install plastimatch` nos devuelve `Package 'plastimatch' has no installation candidate`.\n",
    "\n",
    "Afortunadamente el módulo `pyplastimatch` resuelve esta limitación empequetando su propia compilación.\n",
    "\n",
    "La siguiente celda instala el ejecutable `plastimatch` y el módulo `pyplastimatch` que lo encapsula."
   ]
  },
  {
   "cell_type": "code",
   "execution_count": null,
   "metadata": {
    "colab": {
     "base_uri": "https://localhost:8080/"
    },
    "id": "w7SUPHdu5DzK",
    "label": "install",
    "outputId": "32bb5b09-7e7c-4f93-a38c-3c35dc52e53f"
   },
   "outputs": [
    {
     "name": "stdout",
     "output_type": "stream",
     "text": [
      "\u001b[2K   \u001b[90m━━━━━━━━━━━━━━━━━━━━━━━━━━━━━━━━━━━━━━━━\u001b[0m \u001b[32m80.2/80.2 MB\u001b[0m \u001b[31m8.3 MB/s\u001b[0m eta \u001b[36m0:00:00\u001b[0m\n",
      "\u001b[2K   \u001b[90m━━━━━━━━━━━━━━━━━━━━━━━━━━━━━━━━━━━━━━━━\u001b[0m \u001b[32m67.7/67.7 MB\u001b[0m \u001b[31m9.2 MB/s\u001b[0m eta \u001b[36m0:00:00\u001b[0m\n",
      "\u001b[2K   \u001b[90m━━━━━━━━━━━━━━━━━━━━━━━━━━━━━━━━━━━━━━━━\u001b[0m \u001b[32m28.0/28.0 MB\u001b[0m \u001b[31m53.2 MB/s\u001b[0m eta \u001b[36m0:00:00\u001b[0m\n",
      "\u001b[2K   \u001b[90m━━━━━━━━━━━━━━━━━━━━━━━━━━━━━━━━━━━━━━━━\u001b[0m \u001b[32m57.0/57.0 MB\u001b[0m \u001b[31m9.4 MB/s\u001b[0m eta \u001b[36m0:00:00\u001b[0m\n",
      "\u001b[2K   \u001b[90m━━━━━━━━━━━━━━━━━━━━━━━━━━━━━━━━━━━━━━━━\u001b[0m \u001b[32m28.4/28.4 MB\u001b[0m \u001b[31m45.8 MB/s\u001b[0m eta \u001b[36m0:00:00\u001b[0m\n",
      "\u001b[2K   \u001b[90m━━━━━━━━━━━━━━━━━━━━━━━━━━━━━━━━━━━━━━━━\u001b[0m \u001b[32m15.8/15.8 MB\u001b[0m \u001b[31m76.1 MB/s\u001b[0m eta \u001b[36m0:00:00\u001b[0m\n",
      "\u001b[2K   \u001b[90m━━━━━━━━━━━━━━━━━━━━━━━━━━━━━━━━━━━━━━━━\u001b[0m \u001b[32m2.4/2.4 MB\u001b[0m \u001b[31m64.4 MB/s\u001b[0m eta \u001b[36m0:00:00\u001b[0m\n",
      "\u001b[2K   \u001b[90m━━━━━━━━━━━━━━━━━━━━━━━━━━━━━━━━━━━━━━━━\u001b[0m \u001b[32m52.4/52.4 MB\u001b[0m \u001b[31m9.5 MB/s\u001b[0m eta \u001b[36m0:00:00\u001b[0m\n",
      "\u001b[?25hPyPlastimatch Plastimatch installation utility.\n",
      "NOTE: this utility is not meant to be replace the normal install of Plastimatch via apt.\n",
      "Rather, it is meant to be used in case a Plastimatch binary is not available for a specific distribution.\n",
      "\n",
      "System distribution: Ubuntu 22.04\n",
      "\n",
      "Downloading meta JSON in the temp directory /tmp/tmpqmk8laaa/release_meta.json... Done.\n",
      "Matching distribution found in the latest PyPlastimatch release.\n",
      "\n",
      "Downloading binary in the temp directory /tmp/tmpqmk8laaa/plastimatch-ubuntu_22_04... Done.\n",
      "\n",
      "Installing binaries... Done.\n",
      "Installing dependencies... Done.\n"
     ]
    }
   ],
   "source": [
    "!pip -q install pyplastimatch\n",
    "from pyplastimatch.utils.install import install_precompiled_binaries\n",
    "install_precompiled_binaries()"
   ]
  },
  {
   "cell_type": "markdown",
   "metadata": {
    "id": "fQPbjwTAjQZ7",
    "label": "md-createdir"
   },
   "source": [
    "Creamos un directorio para manejar los datos sintéticos"
   ]
  },
  {
   "cell_type": "code",
   "execution_count": 2,
   "metadata": {
    "id": "-OXy_ASL6tWx",
    "label": "createdir"
   },
   "outputs": [],
   "source": [
    "!mkdir -p mydata/cuba/ss"
   ]
  },
  {
   "cell_type": "markdown",
   "metadata": {
    "id": "BfLVYidCjgKa",
    "label": "md-synth"
   },
   "source": [
    "Corremos una secuencia de comandos de plastimatch\n",
    "- Creación de las imágenes del paciente, una cuba de agua\n",
    "- Dos máscaras para la estructuras:\n",
    "  + BODY: coincide con el contorno externo de la cuba\n",
    "  + PTV: Una esfera en el centro de la cuba\n",
    "- Creamos el archivo DICOM de estructuras a partir de las máscaras anteriores"
   ]
  },
  {
   "cell_type": "code",
   "execution_count": null,
   "metadata": {
    "id": "-KPDKyv4akw7",
    "label": "synth"
   },
   "outputs": [],
   "source": [
    "# Creación de la estructura DICOM de datos. Plastimatch crea los archivos de imagen, un archivo de estructuras y otro de dosis.\n",
    "!plastimatch synth \\\n",
    "  --background -1000 \\\n",
    "  --foreground 0 \\\n",
    "  --pattern rect \\\n",
    "  --output-dicom \"mydata/cuba\" \\\n",
    "  --rect-size \"-50 50 -50 50 -50 50\" \\\n",
    "  --origin \"-55 -55 -55\" \\\n",
    "  --spacing \"1 1 1\" \\\n",
    "  --dim \"110 110 110\" \\\n",
    "  --patient-id \"TestDICOM01\" \\\n",
    "  --patient-name \"CUBA^MANIQUI\" \\\n",
    "  --patient-pos \"hfs\"\n",
    "\n",
    "# plastimatch ha creado un archivo de estructurs y uno de dosis que no queremos\n",
    "!rm -f mydata/cuba/rtss*.dcm\n",
    "!rm -f mydata/cuba/dose*.dcm\n",
    "\n",
    "# Creación de la máscara para el contorno externo\n",
    "!plastimatch synth \\\n",
    "  --background 0 \\\n",
    "  --foreground 1 \\\n",
    "  --pattern rect \\\n",
    "  --output \"mydata/cuba/ss/BODY.mha\" \\\n",
    "  --rect-size \"-50 50 -50 50 -50 50\" \\\n",
    "  --origin \"-55 -55 -55\" \\\n",
    "  --spacing \"1 1 1\" \\\n",
    "  --dim \"500 500 500\"\n",
    "\n",
    "# Creación de la máscara para el PTV\n",
    "!plastimatch synth \\\n",
    "  --background 0 \\\n",
    "  --foreground 1 \\\n",
    "  --pattern \"sphere\" \\\n",
    "  --output \"mydata/cuba/ss/PTV.mha\" \\\n",
    "  --radius \"10\" \\\n",
    "  --center \"0 0 0\" \\\n",
    "  --origin \"-55 -55 -55\" \\\n",
    "  --spacing \"1 1 1\" \\\n",
    "  --dim \"500 500 500\"\n",
    "\n",
    "# Creación de un archivo DICOM de estructuras a partir de las máscaras manteniendo los demográficos del paciente.\n",
    "!plastimatch convert \\\n",
    "  --input-prefix mydata/cuba/ss \\\n",
    "  --output-dicom mydata/cuba \\\n",
    "  --referenced-ct mydata/cuba"
   ]
  },
  {
   "cell_type": "markdown",
   "metadata": {
    "id": "2U4MWS77pjxe"
   },
   "source": [
    "Bajamos los archivos de la nube Colab a nuestro disco local.\n",
    "- Importación del módulo necesario\n",
    "- Comprimimos los datos para facilitar la descarga\n",
    ". Descargamos\n",
    "- Borramos los archivos"
   ]
  },
  {
   "cell_type": "code",
   "execution_count": 6,
   "metadata": {
    "id": "mfiOuW5mZTvI",
    "label": "google.colab"
   },
   "outputs": [],
   "source": [
    "from google.colab import files"
   ]
  },
  {
   "cell_type": "code",
   "execution_count": 7,
   "metadata": {
    "id": "Q4b4F0bOaqZz",
    "label": "zip"
   },
   "outputs": [],
   "source": [
    "!zip -q -j /content/cuba.zip /content/mydata/cuba/*"
   ]
  },
  {
   "cell_type": "code",
   "execution_count": 8,
   "metadata": {
    "colab": {
     "base_uri": "https://localhost:8080/",
     "height": 17
    },
    "id": "PIQZdsSxfYGY",
    "label": "download",
    "outputId": "50f569a4-2e75-4cdc-f58e-c7a0ec4002c6"
   },
   "outputs": [
    {
     "data": {
      "application/javascript": "\n    async function download(id, filename, size) {\n      if (!google.colab.kernel.accessAllowed) {\n        return;\n      }\n      const div = document.createElement('div');\n      const label = document.createElement('label');\n      label.textContent = `Downloading \"${filename}\": `;\n      div.appendChild(label);\n      const progress = document.createElement('progress');\n      progress.max = size;\n      div.appendChild(progress);\n      document.body.appendChild(div);\n\n      const buffers = [];\n      let downloaded = 0;\n\n      const channel = await google.colab.kernel.comms.open(id);\n      // Send a message to notify the kernel that we're ready.\n      channel.send({})\n\n      for await (const message of channel.messages) {\n        // Send a message to notify the kernel that we're ready.\n        channel.send({})\n        if (message.buffers) {\n          for (const buffer of message.buffers) {\n            buffers.push(buffer);\n            downloaded += buffer.byteLength;\n            progress.value = downloaded;\n          }\n        }\n      }\n      const blob = new Blob(buffers, {type: 'application/binary'});\n      const a = document.createElement('a');\n      a.href = window.URL.createObjectURL(blob);\n      a.download = filename;\n      div.appendChild(a);\n      a.click();\n      div.remove();\n    }\n  ",
      "text/plain": [
       "<IPython.core.display.Javascript object>"
      ]
     },
     "metadata": {},
     "output_type": "display_data"
    },
    {
     "data": {
      "application/javascript": "download(\"download_57527fb9-b31c-4388-99b6-a17c7477f2a0\", \"cuba.zip\", 320017)",
      "text/plain": [
       "<IPython.core.display.Javascript object>"
      ]
     },
     "metadata": {},
     "output_type": "display_data"
    }
   ],
   "source": [
    "files.download('/content/cuba.zip')"
   ]
  },
  {
   "cell_type": "code",
   "execution_count": 9,
   "metadata": {
    "id": "GnCrIJUHspPL",
    "label": "rm-cuba"
   },
   "outputs": [],
   "source": [
    "!rm -f /content/cuba.zip"
   ]
  },
  {
   "cell_type": "code",
   "execution_count": 10,
   "metadata": {
    "id": "Az1IFm1Hs25D",
    "label": "rm-mydata"
   },
   "outputs": [],
   "source": [
    "!rm -rf mydata"
   ]
  }
 ],
 "metadata": {
  "colab": {
   "provenance": []
  },
  "kernelspec": {
   "display_name": "Python 3",
   "name": "python3"
  },
  "language_info": {
   "name": "python"
  }
 },
 "nbformat": 4,
 "nbformat_minor": 0
}
